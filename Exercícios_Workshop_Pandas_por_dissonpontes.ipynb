{
  "nbformat": 4,
  "nbformat_minor": 0,
  "metadata": {
    "colab": {
      "name": "Exercícios Workshop Pandas - por @dissonpontes.ipynb",
      "provenance": [],
      "collapsed_sections": [],
      "include_colab_link": true
    },
    "kernelspec": {
      "name": "python3",
      "display_name": "Python 3"
    },
    "language_info": {
      "name": "python"
    }
  },
  "cells": [
    {
      "cell_type": "markdown",
      "metadata": {
        "id": "view-in-github",
        "colab_type": "text"
      },
      "source": [
        "<a href=\"https://colab.research.google.com/github/dissonpontes/Exercicios_do_Bootcamp_DS/blob/main/Exerc%C3%ADcios_Workshop_Pandas_por_dissonpontes.ipynb\" target=\"_parent\"><img src=\"https://colab.research.google.com/assets/colab-badge.svg\" alt=\"Open In Colab\"/></a>"
      ]
    },
    {
      "cell_type": "markdown",
      "metadata": {
        "id": "LO6e1Tl2PDkj"
      },
      "source": [
        "## Olá! Meu nome é **Anderson Pontes**. \n",
        "\n",
        "Sou de Fortaleza, Ceará e estou estudando para ser um cientista de dados. \n",
        "\n",
        "Sempre tive paixão por análise de dados, e depois de estudar outras coisas como Química e Fìsica (graduação e mestrado, respectivamente) creio que tenho uma visão analítica que foi melhorada com o workshop!\n",
        "\n",
        "Minhas redes sociais:\n",
        "\n",
        "*   Linkedin: https://www.linkedin.com/in/dissonpontes/\n",
        "*   Github: https://github.com/dissonpontes\n",
        "*   Instagram: https://www.instagram.com/dissonpontes\n",
        "\n",
        "Nesse exercício, tomei a liberdade de fazer alterações em algumas células. Indicarei onde estarei fazendo tais mudanças."
      ]
    },
    {
      "cell_type": "markdown",
      "metadata": {
        "id": "F0xmvM7kES7h"
      },
      "source": [
        "# **Atividade: Workshop Excel ao Pandas**"
      ]
    },
    {
      "cell_type": "markdown",
      "metadata": {
        "id": "-k9lJvd5E6PN"
      },
      "source": [
        "O notebook a seguir é referente aos exercícios a serem realizados após o workshop de Pandas. \n",
        "\n",
        "**Antes de realizar a sua atividade, clique File > Save a Copy in Drive (Salvar uma Cópia no Drive)**"
      ]
    },
    {
      "cell_type": "markdown",
      "metadata": {
        "id": "fqgAj889E6Tr"
      },
      "source": [
        "Você faz parte de uma consultoria de negócios e foi contratado pela *Bikes S.A* para realizar uma breve análise dos negócios e responder a algumas questões, desenvolvendo a estratégia de negócios para a próxima temporada "
      ]
    },
    {
      "cell_type": "markdown",
      "metadata": {
        "id": "g773-XerHcOX"
      },
      "source": [
        "### **Exercício 1**\n",
        "Vamos carregar nosso dataset e entender um pouco sobre ele. "
      ]
    },
    {
      "cell_type": "code",
      "metadata": {
        "id": "SBZ3_KpzHZpk"
      },
      "source": [
        "# Importe o pacote Pandas para a sessão (Lembre-se que, caso precise instalar, use o comando !pip install nome-do-pacote)\n",
        "import pandas as pd\n",
        "import seaborn as sns"
      ],
      "execution_count": null,
      "outputs": []
    },
    {
      "cell_type": "markdown",
      "metadata": {
        "id": "yTWdfDcHRE6a"
      },
      "source": [
        "Aqui, preferi fazer a importação do arquivo csv direto do google colab. Então essa próxima célula no meu caso será ignorada"
      ]
    },
    {
      "cell_type": "code",
      "metadata": {
        "id": "NDpItiSVc0wP"
      },
      "source": [
        "# Carregue o dataset\n",
        "\n",
        "# Importar o arquivo do seu computador para o Google Colab\n",
        "from google.colab import files\n",
        "uploaded = files.upload() "
      ],
      "execution_count": null,
      "outputs": []
    },
    {
      "cell_type": "markdown",
      "metadata": {
        "id": "rOrC3Pj7SIOZ"
      },
      "source": [
        "Estava encontrando um erro de encoding do arquivo. Para descobrir qual o encoding necessário, utilizei a biblioteca **chardet**"
      ]
    },
    {
      "cell_type": "code",
      "metadata": {
        "colab": {
          "base_uri": "https://localhost:8080/"
        },
        "id": "Gi41MROIR9u7",
        "outputId": "2776291f-5d70-4893-faf3-e634b1af5c58"
      },
      "source": [
        "import chardet    \n",
        "rawdata = open('SeoulBikeData.csv', 'rb').read()\n",
        "result = chardet.detect(rawdata)\n",
        "charenc = result['encoding']\n",
        "print(charenc)"
      ],
      "execution_count": null,
      "outputs": [
        {
          "output_type": "stream",
          "text": [
            "ISO-8859-1\n"
          ],
          "name": "stdout"
        }
      ]
    },
    {
      "cell_type": "markdown",
      "metadata": {
        "id": "wg8WW7YmSZmw"
      },
      "source": [
        "Agora, de posse do encoding do arquivo, posso carregar meu data frame corretamente"
      ]
    },
    {
      "cell_type": "code",
      "metadata": {
        "id": "BYiroNfEH9wI"
      },
      "source": [
        "# Importar o arquivo do Google Colab para o notebook\n",
        "df = pd.read_csv('SeoulBikeData.csv', encoding = 'ISO-8859-1')"
      ],
      "execution_count": null,
      "outputs": []
    },
    {
      "cell_type": "code",
      "metadata": {
        "id": "1sSicMX0IDpo",
        "colab": {
          "base_uri": "https://localhost:8080/",
          "height": 204
        },
        "outputId": "161e2326-a8a6-470f-db63-b2444b3a3849"
      },
      "source": [
        "# Verifique as primeiras 5 linhas com o método head\n",
        "df.head(5)"
      ],
      "execution_count": null,
      "outputs": [
        {
          "output_type": "execute_result",
          "data": {
            "text/html": [
              "<div>\n",
              "<style scoped>\n",
              "    .dataframe tbody tr th:only-of-type {\n",
              "        vertical-align: middle;\n",
              "    }\n",
              "\n",
              "    .dataframe tbody tr th {\n",
              "        vertical-align: top;\n",
              "    }\n",
              "\n",
              "    .dataframe thead th {\n",
              "        text-align: right;\n",
              "    }\n",
              "</style>\n",
              "<table border=\"1\" class=\"dataframe\">\n",
              "  <thead>\n",
              "    <tr style=\"text-align: right;\">\n",
              "      <th></th>\n",
              "      <th>Date</th>\n",
              "      <th>Rented Bike Count</th>\n",
              "      <th>Hour</th>\n",
              "      <th>Temperature(°C)</th>\n",
              "      <th>Humidity(%)</th>\n",
              "      <th>Wind speed (m/s)</th>\n",
              "      <th>Visibility (10m)</th>\n",
              "      <th>Dew point temperature(°C)</th>\n",
              "      <th>Solar Radiation (MJ/m2)</th>\n",
              "      <th>Rainfall(mm)</th>\n",
              "      <th>Snowfall (cm)</th>\n",
              "      <th>Seasons</th>\n",
              "      <th>Holiday</th>\n",
              "      <th>Functioning Day</th>\n",
              "    </tr>\n",
              "  </thead>\n",
              "  <tbody>\n",
              "    <tr>\n",
              "      <th>0</th>\n",
              "      <td>01/12/2017</td>\n",
              "      <td>254</td>\n",
              "      <td>0</td>\n",
              "      <td>-5.2</td>\n",
              "      <td>37</td>\n",
              "      <td>2.2</td>\n",
              "      <td>2000</td>\n",
              "      <td>-17.6</td>\n",
              "      <td>0.0</td>\n",
              "      <td>0.0</td>\n",
              "      <td>0.0</td>\n",
              "      <td>Winter</td>\n",
              "      <td>No Holiday</td>\n",
              "      <td>Yes</td>\n",
              "    </tr>\n",
              "    <tr>\n",
              "      <th>1</th>\n",
              "      <td>01/12/2017</td>\n",
              "      <td>204</td>\n",
              "      <td>1</td>\n",
              "      <td>-5.5</td>\n",
              "      <td>38</td>\n",
              "      <td>0.8</td>\n",
              "      <td>2000</td>\n",
              "      <td>-17.6</td>\n",
              "      <td>0.0</td>\n",
              "      <td>0.0</td>\n",
              "      <td>0.0</td>\n",
              "      <td>Winter</td>\n",
              "      <td>No Holiday</td>\n",
              "      <td>Yes</td>\n",
              "    </tr>\n",
              "    <tr>\n",
              "      <th>2</th>\n",
              "      <td>01/12/2017</td>\n",
              "      <td>173</td>\n",
              "      <td>2</td>\n",
              "      <td>-6.0</td>\n",
              "      <td>39</td>\n",
              "      <td>1.0</td>\n",
              "      <td>2000</td>\n",
              "      <td>-17.7</td>\n",
              "      <td>0.0</td>\n",
              "      <td>0.0</td>\n",
              "      <td>0.0</td>\n",
              "      <td>Winter</td>\n",
              "      <td>No Holiday</td>\n",
              "      <td>Yes</td>\n",
              "    </tr>\n",
              "    <tr>\n",
              "      <th>3</th>\n",
              "      <td>01/12/2017</td>\n",
              "      <td>107</td>\n",
              "      <td>3</td>\n",
              "      <td>-6.2</td>\n",
              "      <td>40</td>\n",
              "      <td>0.9</td>\n",
              "      <td>2000</td>\n",
              "      <td>-17.6</td>\n",
              "      <td>0.0</td>\n",
              "      <td>0.0</td>\n",
              "      <td>0.0</td>\n",
              "      <td>Winter</td>\n",
              "      <td>No Holiday</td>\n",
              "      <td>Yes</td>\n",
              "    </tr>\n",
              "    <tr>\n",
              "      <th>4</th>\n",
              "      <td>01/12/2017</td>\n",
              "      <td>78</td>\n",
              "      <td>4</td>\n",
              "      <td>-6.0</td>\n",
              "      <td>36</td>\n",
              "      <td>2.3</td>\n",
              "      <td>2000</td>\n",
              "      <td>-18.6</td>\n",
              "      <td>0.0</td>\n",
              "      <td>0.0</td>\n",
              "      <td>0.0</td>\n",
              "      <td>Winter</td>\n",
              "      <td>No Holiday</td>\n",
              "      <td>Yes</td>\n",
              "    </tr>\n",
              "  </tbody>\n",
              "</table>\n",
              "</div>"
            ],
            "text/plain": [
              "         Date  Rented Bike Count  Hour  ...  Seasons     Holiday  Functioning Day\n",
              "0  01/12/2017                254     0  ...   Winter  No Holiday              Yes\n",
              "1  01/12/2017                204     1  ...   Winter  No Holiday              Yes\n",
              "2  01/12/2017                173     2  ...   Winter  No Holiday              Yes\n",
              "3  01/12/2017                107     3  ...   Winter  No Holiday              Yes\n",
              "4  01/12/2017                 78     4  ...   Winter  No Holiday              Yes\n",
              "\n",
              "[5 rows x 14 columns]"
            ]
          },
          "metadata": {
            "tags": []
          },
          "execution_count": 17
        }
      ]
    },
    {
      "cell_type": "code",
      "metadata": {
        "id": "nFV2V6UyIKbs"
      },
      "source": [
        "# Verifique o tipo de arquivo importado\n",
        "#ainda_nao_sei, provavelmente preciso usar a bibliotea IO"
      ],
      "execution_count": null,
      "outputs": []
    },
    {
      "cell_type": "code",
      "metadata": {
        "id": "P9SsbP_GI27v",
        "colab": {
          "base_uri": "https://localhost:8080/"
        },
        "outputId": "91cd237d-5466-4aed-80e1-021901499dec"
      },
      "source": [
        "# Verifique as informações (info) do arquivo importado\n",
        "df.info()"
      ],
      "execution_count": null,
      "outputs": [
        {
          "output_type": "stream",
          "text": [
            "<class 'pandas.core.frame.DataFrame'>\n",
            "RangeIndex: 8760 entries, 0 to 8759\n",
            "Data columns (total 14 columns):\n",
            " #   Column                     Non-Null Count  Dtype  \n",
            "---  ------                     --------------  -----  \n",
            " 0   Date                       8760 non-null   object \n",
            " 1   Rented Bike Count          8760 non-null   int64  \n",
            " 2   Hour                       8760 non-null   int64  \n",
            " 3   Temperature(°C)            8760 non-null   float64\n",
            " 4   Humidity(%)                8760 non-null   int64  \n",
            " 5   Wind speed (m/s)           8760 non-null   float64\n",
            " 6   Visibility (10m)           8760 non-null   int64  \n",
            " 7   Dew point temperature(°C)  8760 non-null   float64\n",
            " 8   Solar Radiation (MJ/m2)    8760 non-null   float64\n",
            " 9   Rainfall(mm)               8760 non-null   float64\n",
            " 10  Snowfall (cm)              8760 non-null   float64\n",
            " 11  Seasons                    8760 non-null   object \n",
            " 12  Holiday                    8760 non-null   object \n",
            " 13  Functioning Day            8760 non-null   object \n",
            "dtypes: float64(6), int64(4), object(4)\n",
            "memory usage: 958.2+ KB\n"
          ],
          "name": "stdout"
        }
      ]
    },
    {
      "cell_type": "code",
      "metadata": {
        "colab": {
          "base_uri": "https://localhost:8080/"
        },
        "id": "38YPGDLdUJ9J",
        "outputId": "4e6c3ed2-7387-4614-d220-453b7b83f95f"
      },
      "source": [
        "# Verificando o shape do data frame, ou seja, o número de colunas e o número de linhas.\n",
        "df.shape"
      ],
      "execution_count": null,
      "outputs": [
        {
          "output_type": "execute_result",
          "data": {
            "text/plain": [
              "(8760, 14)"
            ]
          },
          "metadata": {
            "tags": []
          },
          "execution_count": 21
        }
      ]
    },
    {
      "cell_type": "code",
      "metadata": {
        "colab": {
          "base_uri": "https://localhost:8080/"
        },
        "id": "8hCrh_NFVEBY",
        "outputId": "b7727c74-9b17-4b3d-da04-3ceb6d74c92b"
      },
      "source": [
        "df.isna().sum()"
      ],
      "execution_count": null,
      "outputs": [
        {
          "output_type": "execute_result",
          "data": {
            "text/plain": [
              "Date                         0\n",
              "Rented Bike Count            0\n",
              "Hour                         0\n",
              "Temperature(°C)              0\n",
              "Humidity(%)                  0\n",
              "Wind speed (m/s)             0\n",
              "Visibility (10m)             0\n",
              "Dew point temperature(°C)    0\n",
              "Solar Radiation (MJ/m2)      0\n",
              "Rainfall(mm)                 0\n",
              "Snowfall (cm)                0\n",
              "Seasons                      0\n",
              "Holiday                      0\n",
              "Functioning Day              0\n",
              "Year                         0\n",
              "Month                        0\n",
              "dtype: int64"
            ]
          },
          "metadata": {
            "tags": []
          },
          "execution_count": 26
        }
      ]
    },
    {
      "cell_type": "markdown",
      "metadata": {
        "id": "jRRl_pdTUCDh"
      },
      "source": [
        "De acordo com as informações acima, podemos ver que possuimos um total de 8760 linhas com dados distribuídas em 14 colunas diferentes. \n",
        "\n",
        "Geralmente, precisaríamos verificar se nosso dataframe possui valores nulos ou vazios. Mas, pelas informações obtidas na função **info()**, percebemos que todas as colunas possuem 8760 dados não-nulos, de um total de 8760 linhas de dados, confirmado pelo trecho de código **df.isna().sum()**"
      ]
    },
    {
      "cell_type": "markdown",
      "metadata": {
        "id": "WGXBKWWHOsJK"
      },
      "source": [
        "**Execute a célula abaixo antes de seguir para o próximo exercício**"
      ]
    },
    {
      "cell_type": "code",
      "metadata": {
        "id": "N-3bRSDTJD6g"
      },
      "source": [
        "# Apenas execute esta célula para criar duas novas colunas com mês e ano.\n",
        "df['Date'] = pd.to_datetime(df.Date)\n",
        "df['Year'] = df.Date.dt.year\n",
        "df['Month'] = df.Date.dt.month"
      ],
      "execution_count": null,
      "outputs": []
    },
    {
      "cell_type": "markdown",
      "metadata": {
        "id": "DzPEX37CJa1y"
      },
      "source": [
        "### **Exercício 2**\n",
        "Agora que sabemos um pouco mais sobre nosso dataset, vamos extrair alguns insights dos dados."
      ]
    },
    {
      "cell_type": "code",
      "metadata": {
        "colab": {
          "base_uri": "https://localhost:8080/",
          "height": 162
        },
        "id": "p6yR1w1qMdl_",
        "outputId": "69234404-594f-41fc-81b7-a2fec751824a"
      },
      "source": [
        "# Visualizando a tabela\n",
        "df.head(2)"
      ],
      "execution_count": null,
      "outputs": [
        {
          "output_type": "execute_result",
          "data": {
            "text/html": [
              "<div>\n",
              "<style scoped>\n",
              "    .dataframe tbody tr th:only-of-type {\n",
              "        vertical-align: middle;\n",
              "    }\n",
              "\n",
              "    .dataframe tbody tr th {\n",
              "        vertical-align: top;\n",
              "    }\n",
              "\n",
              "    .dataframe thead th {\n",
              "        text-align: right;\n",
              "    }\n",
              "</style>\n",
              "<table border=\"1\" class=\"dataframe\">\n",
              "  <thead>\n",
              "    <tr style=\"text-align: right;\">\n",
              "      <th></th>\n",
              "      <th>Date</th>\n",
              "      <th>Rented Bike Count</th>\n",
              "      <th>Hour</th>\n",
              "      <th>Temperature(°C)</th>\n",
              "      <th>Humidity(%)</th>\n",
              "      <th>Wind speed (m/s)</th>\n",
              "      <th>Visibility (10m)</th>\n",
              "      <th>Dew point temperature(°C)</th>\n",
              "      <th>Solar Radiation (MJ/m2)</th>\n",
              "      <th>Rainfall(mm)</th>\n",
              "      <th>Snowfall (cm)</th>\n",
              "      <th>Seasons</th>\n",
              "      <th>Holiday</th>\n",
              "      <th>Functioning Day</th>\n",
              "      <th>Year</th>\n",
              "      <th>Month</th>\n",
              "    </tr>\n",
              "  </thead>\n",
              "  <tbody>\n",
              "    <tr>\n",
              "      <th>0</th>\n",
              "      <td>2017-01-12</td>\n",
              "      <td>254</td>\n",
              "      <td>0</td>\n",
              "      <td>-5.2</td>\n",
              "      <td>37</td>\n",
              "      <td>2.2</td>\n",
              "      <td>2000</td>\n",
              "      <td>-17.6</td>\n",
              "      <td>0.0</td>\n",
              "      <td>0.0</td>\n",
              "      <td>0.0</td>\n",
              "      <td>Winter</td>\n",
              "      <td>No Holiday</td>\n",
              "      <td>Yes</td>\n",
              "      <td>2017</td>\n",
              "      <td>1</td>\n",
              "    </tr>\n",
              "    <tr>\n",
              "      <th>1</th>\n",
              "      <td>2017-01-12</td>\n",
              "      <td>204</td>\n",
              "      <td>1</td>\n",
              "      <td>-5.5</td>\n",
              "      <td>38</td>\n",
              "      <td>0.8</td>\n",
              "      <td>2000</td>\n",
              "      <td>-17.6</td>\n",
              "      <td>0.0</td>\n",
              "      <td>0.0</td>\n",
              "      <td>0.0</td>\n",
              "      <td>Winter</td>\n",
              "      <td>No Holiday</td>\n",
              "      <td>Yes</td>\n",
              "      <td>2017</td>\n",
              "      <td>1</td>\n",
              "    </tr>\n",
              "  </tbody>\n",
              "</table>\n",
              "</div>"
            ],
            "text/plain": [
              "        Date  Rented Bike Count  Hour  ...  Functioning Day  Year  Month\n",
              "0 2017-01-12                254     0  ...              Yes  2017      1\n",
              "1 2017-01-12                204     1  ...              Yes  2017      1\n",
              "\n",
              "[2 rows x 16 columns]"
            ]
          },
          "metadata": {
            "tags": []
          },
          "execution_count": 28
        }
      ]
    },
    {
      "cell_type": "code",
      "metadata": {
        "colab": {
          "base_uri": "https://localhost:8080/",
          "height": 314
        },
        "id": "m__lw5XtsTi0",
        "outputId": "805fb560-256e-41af-8f6b-f5e6ead30d13"
      },
      "source": [
        "# Visualizar a estatística descritiva dos dados nos ajuda a ter uma idéia geral sobre o conjunto de dados\n",
        "df.describe()"
      ],
      "execution_count": null,
      "outputs": [
        {
          "output_type": "execute_result",
          "data": {
            "text/html": [
              "<div>\n",
              "<style scoped>\n",
              "    .dataframe tbody tr th:only-of-type {\n",
              "        vertical-align: middle;\n",
              "    }\n",
              "\n",
              "    .dataframe tbody tr th {\n",
              "        vertical-align: top;\n",
              "    }\n",
              "\n",
              "    .dataframe thead th {\n",
              "        text-align: right;\n",
              "    }\n",
              "</style>\n",
              "<table border=\"1\" class=\"dataframe\">\n",
              "  <thead>\n",
              "    <tr style=\"text-align: right;\">\n",
              "      <th></th>\n",
              "      <th>Rented Bike Count</th>\n",
              "      <th>Hour</th>\n",
              "      <th>Temperature(°C)</th>\n",
              "      <th>Humidity(%)</th>\n",
              "      <th>Wind speed (m/s)</th>\n",
              "      <th>Visibility (10m)</th>\n",
              "      <th>Dew point temperature(°C)</th>\n",
              "      <th>Solar Radiation (MJ/m2)</th>\n",
              "      <th>Rainfall(mm)</th>\n",
              "      <th>Snowfall (cm)</th>\n",
              "      <th>Year</th>\n",
              "      <th>Month</th>\n",
              "    </tr>\n",
              "  </thead>\n",
              "  <tbody>\n",
              "    <tr>\n",
              "      <th>count</th>\n",
              "      <td>8760.000000</td>\n",
              "      <td>8760.000000</td>\n",
              "      <td>8760.000000</td>\n",
              "      <td>8760.000000</td>\n",
              "      <td>8760.000000</td>\n",
              "      <td>8760.000000</td>\n",
              "      <td>8760.000000</td>\n",
              "      <td>8760.000000</td>\n",
              "      <td>8760.000000</td>\n",
              "      <td>8760.000000</td>\n",
              "      <td>8760.000000</td>\n",
              "      <td>8760.000000</td>\n",
              "    </tr>\n",
              "    <tr>\n",
              "      <th>mean</th>\n",
              "      <td>704.602055</td>\n",
              "      <td>11.500000</td>\n",
              "      <td>12.882922</td>\n",
              "      <td>58.226256</td>\n",
              "      <td>1.724909</td>\n",
              "      <td>1436.825799</td>\n",
              "      <td>4.073813</td>\n",
              "      <td>0.569111</td>\n",
              "      <td>0.148687</td>\n",
              "      <td>0.075068</td>\n",
              "      <td>2017.915068</td>\n",
              "      <td>6.526027</td>\n",
              "    </tr>\n",
              "    <tr>\n",
              "      <th>std</th>\n",
              "      <td>644.997468</td>\n",
              "      <td>6.922582</td>\n",
              "      <td>11.944825</td>\n",
              "      <td>20.362413</td>\n",
              "      <td>1.036300</td>\n",
              "      <td>608.298712</td>\n",
              "      <td>13.060369</td>\n",
              "      <td>0.868746</td>\n",
              "      <td>1.128193</td>\n",
              "      <td>0.436746</td>\n",
              "      <td>0.278796</td>\n",
              "      <td>3.448048</td>\n",
              "    </tr>\n",
              "    <tr>\n",
              "      <th>min</th>\n",
              "      <td>0.000000</td>\n",
              "      <td>0.000000</td>\n",
              "      <td>-17.800000</td>\n",
              "      <td>0.000000</td>\n",
              "      <td>0.000000</td>\n",
              "      <td>27.000000</td>\n",
              "      <td>-30.600000</td>\n",
              "      <td>0.000000</td>\n",
              "      <td>0.000000</td>\n",
              "      <td>0.000000</td>\n",
              "      <td>2017.000000</td>\n",
              "      <td>1.000000</td>\n",
              "    </tr>\n",
              "    <tr>\n",
              "      <th>25%</th>\n",
              "      <td>191.000000</td>\n",
              "      <td>5.750000</td>\n",
              "      <td>3.500000</td>\n",
              "      <td>42.000000</td>\n",
              "      <td>0.900000</td>\n",
              "      <td>940.000000</td>\n",
              "      <td>-4.700000</td>\n",
              "      <td>0.000000</td>\n",
              "      <td>0.000000</td>\n",
              "      <td>0.000000</td>\n",
              "      <td>2018.000000</td>\n",
              "      <td>4.000000</td>\n",
              "    </tr>\n",
              "    <tr>\n",
              "      <th>50%</th>\n",
              "      <td>504.500000</td>\n",
              "      <td>11.500000</td>\n",
              "      <td>13.700000</td>\n",
              "      <td>57.000000</td>\n",
              "      <td>1.500000</td>\n",
              "      <td>1698.000000</td>\n",
              "      <td>5.100000</td>\n",
              "      <td>0.010000</td>\n",
              "      <td>0.000000</td>\n",
              "      <td>0.000000</td>\n",
              "      <td>2018.000000</td>\n",
              "      <td>7.000000</td>\n",
              "    </tr>\n",
              "    <tr>\n",
              "      <th>75%</th>\n",
              "      <td>1065.250000</td>\n",
              "      <td>17.250000</td>\n",
              "      <td>22.500000</td>\n",
              "      <td>74.000000</td>\n",
              "      <td>2.300000</td>\n",
              "      <td>2000.000000</td>\n",
              "      <td>14.800000</td>\n",
              "      <td>0.930000</td>\n",
              "      <td>0.000000</td>\n",
              "      <td>0.000000</td>\n",
              "      <td>2018.000000</td>\n",
              "      <td>10.000000</td>\n",
              "    </tr>\n",
              "    <tr>\n",
              "      <th>max</th>\n",
              "      <td>3556.000000</td>\n",
              "      <td>23.000000</td>\n",
              "      <td>39.400000</td>\n",
              "      <td>98.000000</td>\n",
              "      <td>7.400000</td>\n",
              "      <td>2000.000000</td>\n",
              "      <td>27.200000</td>\n",
              "      <td>3.520000</td>\n",
              "      <td>35.000000</td>\n",
              "      <td>8.800000</td>\n",
              "      <td>2018.000000</td>\n",
              "      <td>12.000000</td>\n",
              "    </tr>\n",
              "  </tbody>\n",
              "</table>\n",
              "</div>"
            ],
            "text/plain": [
              "       Rented Bike Count         Hour  ...         Year        Month\n",
              "count        8760.000000  8760.000000  ...  8760.000000  8760.000000\n",
              "mean          704.602055    11.500000  ...  2017.915068     6.526027\n",
              "std           644.997468     6.922582  ...     0.278796     3.448048\n",
              "min             0.000000     0.000000  ...  2017.000000     1.000000\n",
              "25%           191.000000     5.750000  ...  2018.000000     4.000000\n",
              "50%           504.500000    11.500000  ...  2018.000000     7.000000\n",
              "75%          1065.250000    17.250000  ...  2018.000000    10.000000\n",
              "max          3556.000000    23.000000  ...  2018.000000    12.000000\n",
              "\n",
              "[8 rows x 12 columns]"
            ]
          },
          "metadata": {
            "tags": []
          },
          "execution_count": 74
        }
      ]
    },
    {
      "cell_type": "code",
      "metadata": {
        "colab": {
          "base_uri": "https://localhost:8080/"
        },
        "id": "GHkjjo0yJTde",
        "outputId": "897473f1-dd70-400a-daca-8c6b5068d605"
      },
      "source": [
        "# Agrupe a tabela por ano e faça a soma das vendas por ano\n",
        "group = df.groupby('Year')['Rented Bike Count'].sum()\n",
        "print(\"As vendas no ano de {} foi {} e as vendas no ano de {} foi {}\".format(group.index[0], group.values[0], group.index[1], group.values[1]))"
      ],
      "execution_count": null,
      "outputs": [
        {
          "output_type": "stream",
          "text": [
            "As vendas no ano de 2017 foi 185330 e as vendas no ano de 2018 foi 5986984\n"
          ],
          "name": "stdout"
        }
      ]
    },
    {
      "cell_type": "code",
      "metadata": {
        "colab": {
          "base_uri": "https://localhost:8080/",
          "height": 204
        },
        "id": "7FRH4AZ_LT0S",
        "outputId": "480a2f53-f305-4998-8d12-60b6570c0115"
      },
      "source": [
        "# Agrupe a tabela por Estação (Seasons) e faça a soma das vendas por estação\n",
        "group2 = df.groupby('Seasons')[['Rented Bike Count']].sum()\n",
        "group2.sort_values(by='Rented Bike Count')"
      ],
      "execution_count": null,
      "outputs": [
        {
          "output_type": "execute_result",
          "data": {
            "text/html": [
              "<div>\n",
              "<style scoped>\n",
              "    .dataframe tbody tr th:only-of-type {\n",
              "        vertical-align: middle;\n",
              "    }\n",
              "\n",
              "    .dataframe tbody tr th {\n",
              "        vertical-align: top;\n",
              "    }\n",
              "\n",
              "    .dataframe thead th {\n",
              "        text-align: right;\n",
              "    }\n",
              "</style>\n",
              "<table border=\"1\" class=\"dataframe\">\n",
              "  <thead>\n",
              "    <tr style=\"text-align: right;\">\n",
              "      <th></th>\n",
              "      <th>Rented Bike Count</th>\n",
              "    </tr>\n",
              "    <tr>\n",
              "      <th>Seasons</th>\n",
              "      <th></th>\n",
              "    </tr>\n",
              "  </thead>\n",
              "  <tbody>\n",
              "    <tr>\n",
              "      <th>Winter</th>\n",
              "      <td>487169</td>\n",
              "    </tr>\n",
              "    <tr>\n",
              "      <th>Spring</th>\n",
              "      <td>1611909</td>\n",
              "    </tr>\n",
              "    <tr>\n",
              "      <th>Autumn</th>\n",
              "      <td>1790002</td>\n",
              "    </tr>\n",
              "    <tr>\n",
              "      <th>Summer</th>\n",
              "      <td>2283234</td>\n",
              "    </tr>\n",
              "  </tbody>\n",
              "</table>\n",
              "</div>"
            ],
            "text/plain": [
              "         Rented Bike Count\n",
              "Seasons                   \n",
              "Winter              487169\n",
              "Spring             1611909\n",
              "Autumn             1790002\n",
              "Summer             2283234"
            ]
          },
          "metadata": {
            "tags": []
          },
          "execution_count": 51
        }
      ]
    },
    {
      "cell_type": "markdown",
      "metadata": {
        "id": "C-VgcZXIXgCh"
      },
      "source": [
        "Percebemos que o verão tem a maior quantidade de vendas acumuladas enquanto o inverno possui a menor quantidade de vendas acumuladas. Isso faz sentido, porque no inverno as pessoas tem a tendência de ficar dentro de casa ou preferir transportes que possam ser aquecidos"
      ]
    },
    {
      "cell_type": "code",
      "metadata": {
        "colab": {
          "base_uri": "https://localhost:8080/",
          "height": 452
        },
        "id": "mo7gdbYkNC0Z",
        "outputId": "c2360794-f95b-4acc-c987-17c00d92605e"
      },
      "source": [
        "# Agrupe a tabela por Mês e tire a média (mean) das vendas por mês\n",
        "group3 = df.groupby('Month')[['Rented Bike Count']].mean().round(2)\n",
        "group3.sort_values(by='Rented Bike Count')"
      ],
      "execution_count": null,
      "outputs": [
        {
          "output_type": "execute_result",
          "data": {
            "text/html": [
              "<div>\n",
              "<style scoped>\n",
              "    .dataframe tbody tr th:only-of-type {\n",
              "        vertical-align: middle;\n",
              "    }\n",
              "\n",
              "    .dataframe tbody tr th {\n",
              "        vertical-align: top;\n",
              "    }\n",
              "\n",
              "    .dataframe thead th {\n",
              "        text-align: right;\n",
              "    }\n",
              "</style>\n",
              "<table border=\"1\" class=\"dataframe\">\n",
              "  <thead>\n",
              "    <tr style=\"text-align: right;\">\n",
              "      <th></th>\n",
              "      <th>Rented Bike Count</th>\n",
              "    </tr>\n",
              "    <tr>\n",
              "      <th>Month</th>\n",
              "      <th></th>\n",
              "    </tr>\n",
              "  </thead>\n",
              "  <tbody>\n",
              "    <tr>\n",
              "      <th>1</th>\n",
              "      <td>386.08</td>\n",
              "    </tr>\n",
              "    <tr>\n",
              "      <th>2</th>\n",
              "      <td>393.02</td>\n",
              "    </tr>\n",
              "    <tr>\n",
              "      <th>12</th>\n",
              "      <td>419.05</td>\n",
              "    </tr>\n",
              "    <tr>\n",
              "      <th>3</th>\n",
              "      <td>611.61</td>\n",
              "    </tr>\n",
              "    <tr>\n",
              "      <th>11</th>\n",
              "      <td>685.29</td>\n",
              "    </tr>\n",
              "    <tr>\n",
              "      <th>9</th>\n",
              "      <td>693.51</td>\n",
              "    </tr>\n",
              "    <tr>\n",
              "      <th>4</th>\n",
              "      <td>772.53</td>\n",
              "    </tr>\n",
              "    <tr>\n",
              "      <th>8</th>\n",
              "      <td>825.52</td>\n",
              "    </tr>\n",
              "    <tr>\n",
              "      <th>10</th>\n",
              "      <td>842.73</td>\n",
              "    </tr>\n",
              "    <tr>\n",
              "      <th>5</th>\n",
              "      <td>895.09</td>\n",
              "    </tr>\n",
              "    <tr>\n",
              "      <th>7</th>\n",
              "      <td>929.22</td>\n",
              "    </tr>\n",
              "    <tr>\n",
              "      <th>6</th>\n",
              "      <td>981.57</td>\n",
              "    </tr>\n",
              "  </tbody>\n",
              "</table>\n",
              "</div>"
            ],
            "text/plain": [
              "       Rented Bike Count\n",
              "Month                   \n",
              "1                 386.08\n",
              "2                 393.02\n",
              "12                419.05\n",
              "3                 611.61\n",
              "11                685.29\n",
              "9                 693.51\n",
              "4                 772.53\n",
              "8                 825.52\n",
              "10                842.73\n",
              "5                 895.09\n",
              "7                 929.22\n",
              "6                 981.57"
            ]
          },
          "metadata": {
            "tags": []
          },
          "execution_count": 56
        }
      ]
    },
    {
      "cell_type": "code",
      "metadata": {
        "colab": {
          "base_uri": "https://localhost:8080/",
          "height": 296
        },
        "id": "XLqKf_g-rm-E",
        "outputId": "4a529ee4-38cb-4830-e451-5c35dfda7bee"
      },
      "source": [
        "group4 = df.groupby('Month')[['Temperature(°C)']].mean()\n",
        "sns.lineplot(x='Month', y='Temperature(°C)', data=group4)"
      ],
      "execution_count": null,
      "outputs": [
        {
          "output_type": "execute_result",
          "data": {
            "text/plain": [
              "<matplotlib.axes._subplots.AxesSubplot at 0x7f4376188710>"
            ]
          },
          "metadata": {
            "tags": []
          },
          "execution_count": 72
        },
        {
          "output_type": "display_data",
          "data": {
            "image/png": "[encoded data removed]",
            "text/plain": [
              "<Figure size 432x288 with 1 Axes>"
            ]
          },
          "metadata": {
            "tags": [],
            "needs_background": "light"
          }
        }
      ]
    },
    {
      "cell_type": "code",
      "metadata": {
        "colab": {
          "base_uri": "https://localhost:8080/",
          "height": 296
        },
        "id": "bkLAxXSdtJOM",
        "outputId": "f71e55bc-8374-4a17-ff1c-0f586174252b"
      },
      "source": [
        "group5 = df.groupby('Month')[['Dew point temperature(°C)']].mean()\n",
        "sns.lineplot(x='Month', y='Dew point temperature(°C)', data=group5)"
      ],
      "execution_count": null,
      "outputs": [
        {
          "output_type": "execute_result",
          "data": {
            "text/plain": [
              "<matplotlib.axes._subplots.AxesSubplot at 0x7f4376159c90>"
            ]
          },
          "metadata": {
            "tags": []
          },
          "execution_count": 75
        },
        {
          "output_type": "display_data",
          "data": {
            "image/png": "[encoded data removed]",
            "text/plain": [
              "<Figure size 432x288 with 1 Axes>"
            ]
          },
          "metadata": {
            "tags": [],
            "needs_background": "light"
          }
        }
      ]
    },
    {
      "cell_type": "code",
      "metadata": {
        "colab": {
          "base_uri": "https://localhost:8080/",
          "height": 296
        },
        "id": "ONGTOZ50tplj",
        "outputId": "55e496d5-89b5-4758-e2da-ae587a6f811a"
      },
      "source": [
        "group6 = df.groupby('Month')[['Solar Radiation (MJ/m2)']].mean()\n",
        "sns.lineplot(x='Month', y='Solar Radiation (MJ/m2)', data=group6)"
      ],
      "execution_count": null,
      "outputs": [
        {
          "output_type": "execute_result",
          "data": {
            "text/plain": [
              "<matplotlib.axes._subplots.AxesSubplot at 0x7f437610e950>"
            ]
          },
          "metadata": {
            "tags": []
          },
          "execution_count": 76
        },
        {
          "output_type": "display_data",
          "data": {
            "image/png": "[encoded data removed]",
            "text/plain": [
              "<Figure size 432x288 with 1 Axes>"
            ]
          },
          "metadata": {
            "tags": [],
            "needs_background": "light"
          }
        }
      ]
    },
    {
      "cell_type": "code",
      "metadata": {
        "colab": {
          "base_uri": "https://localhost:8080/",
          "height": 298
        },
        "id": "kyACwF0vuG3r",
        "outputId": "c57eaac1-9cbc-416a-df00-90105dc52ffb"
      },
      "source": [
        "group7 = df.groupby('Month')[['Visibility (10m)']].mean()\n",
        "sns.lineplot(x='Month', y='Visibility (10m)', data=group7)"
      ],
      "execution_count": null,
      "outputs": [
        {
          "output_type": "execute_result",
          "data": {
            "text/plain": [
              "<matplotlib.axes._subplots.AxesSubplot at 0x7f4375fd3b90>"
            ]
          },
          "metadata": {
            "tags": []
          },
          "execution_count": 80
        },
        {
          "output_type": "display_data",
          "data": {
            "image/png": "[encoded data removed]",
            "text/plain": [
              "<Figure size 432x288 with 1 Axes>"
            ]
          },
          "metadata": {
            "tags": [],
            "needs_background": "light"
          }
        }
      ]
    },
    {
      "cell_type": "code",
      "metadata": {
        "colab": {
          "base_uri": "https://localhost:8080/",
          "height": 296
        },
        "id": "iROQN-A2urul",
        "outputId": "277ecbc1-712b-47d8-bd14-44cdd45c9295"
      },
      "source": [
        "group8 = df.groupby('Month')[['Humidity(%)']].mean()\n",
        "sns.lineplot(x='Month', y='Humidity(%)', data=group8)"
      ],
      "execution_count": null,
      "outputs": [
        {
          "output_type": "execute_result",
          "data": {
            "text/plain": [
              "<matplotlib.axes._subplots.AxesSubplot at 0x7f4375f48f50>"
            ]
          },
          "metadata": {
            "tags": []
          },
          "execution_count": 81
        },
        {
          "output_type": "display_data",
          "data": {
            "image/png": "[encoded data removed]",
            "text/plain": [
              "<Figure size 432x288 with 1 Axes>"
            ]
          },
          "metadata": {
            "tags": [],
            "needs_background": "light"
          }
        }
      ]
    },
    {
      "cell_type": "markdown",
      "metadata": {
        "id": "Tn9UCQRQZ2qo"
      },
      "source": [
        "### **Comente quais foram os insights que você pôde perceber nesses números?**\n",
        "* Estamos em tendência de alta ou baixa?"
      ]
    },
    {
      "cell_type": "code",
      "metadata": {
        "colab": {
          "base_uri": "https://localhost:8080/",
          "height": 297
        },
        "id": "bWy6F8lEaDUM",
        "outputId": "5e5bf165-47e4-4c14-f4b4-bf98935e7578"
      },
      "source": [
        "sns.lineplot(x='Month', y='Rented Bike Count', data=group3)"
      ],
      "execution_count": null,
      "outputs": [
        {
          "output_type": "execute_result",
          "data": {
            "text/plain": [
              "<matplotlib.axes._subplots.AxesSubplot at 0x7f437eb2c610>"
            ]
          },
          "metadata": {
            "tags": []
          },
          "execution_count": 71
        },
        {
          "output_type": "display_data",
          "data": {
            "image/png": "[encoded data removed]",
            "text/plain": [
              "<Figure size 432x288 with 1 Axes>"
            ]
          },
          "metadata": {
            "tags": [],
            "needs_background": "light"
          }
        }
      ]
    },
    {
      "cell_type": "markdown",
      "metadata": {
        "id": "SPSL679PalbI"
      },
      "source": [
        "*Resposta:* De acordo com o gráfico de linha acima, geralmente utilizado para avaliar tendência, temos que há uma tendência de crescimento entre os meses 1-6 (final do inverno e começo da primavera até o verão), seguida por uma tendência de queda nos meses 7-12 (final do outono ao inverno). [Referência](https://www.ef.com.br/guia-destinos/coreia-do-sul/clima/). "
      ]
    },
    {
      "cell_type": "markdown",
      "metadata": {
        "id": "QhPb5GjRZ7xo"
      },
      "source": [
        "* Qual é a melhor estação?"
      ]
    },
    {
      "cell_type": "code",
      "metadata": {
        "colab": {
          "base_uri": "https://localhost:8080/",
          "height": 204
        },
        "id": "hmqKl_pmaDhy",
        "outputId": "e57a58a4-a13a-4dc9-a2ae-a4718278ba3d"
      },
      "source": [
        "group2.sort_values(by='Rented Bike Count')"
      ],
      "execution_count": null,
      "outputs": [
        {
          "output_type": "execute_result",
          "data": {
            "text/html": [
              "<div>\n",
              "<style scoped>\n",
              "    .dataframe tbody tr th:only-of-type {\n",
              "        vertical-align: middle;\n",
              "    }\n",
              "\n",
              "    .dataframe tbody tr th {\n",
              "        vertical-align: top;\n",
              "    }\n",
              "\n",
              "    .dataframe thead th {\n",
              "        text-align: right;\n",
              "    }\n",
              "</style>\n",
              "<table border=\"1\" class=\"dataframe\">\n",
              "  <thead>\n",
              "    <tr style=\"text-align: right;\">\n",
              "      <th></th>\n",
              "      <th>Rented Bike Count</th>\n",
              "    </tr>\n",
              "    <tr>\n",
              "      <th>Seasons</th>\n",
              "      <th></th>\n",
              "    </tr>\n",
              "  </thead>\n",
              "  <tbody>\n",
              "    <tr>\n",
              "      <th>Winter</th>\n",
              "      <td>487169</td>\n",
              "    </tr>\n",
              "    <tr>\n",
              "      <th>Spring</th>\n",
              "      <td>1611909</td>\n",
              "    </tr>\n",
              "    <tr>\n",
              "      <th>Autumn</th>\n",
              "      <td>1790002</td>\n",
              "    </tr>\n",
              "    <tr>\n",
              "      <th>Summer</th>\n",
              "      <td>2283234</td>\n",
              "    </tr>\n",
              "  </tbody>\n",
              "</table>\n",
              "</div>"
            ],
            "text/plain": [
              "         Rented Bike Count\n",
              "Seasons                   \n",
              "Winter              487169\n",
              "Spring             1611909\n",
              "Autumn             1790002\n",
              "Summer             2283234"
            ]
          },
          "metadata": {
            "tags": []
          },
          "execution_count": 59
        }
      ]
    },
    {
      "cell_type": "markdown",
      "metadata": {
        "id": "iSD6DNT1bcOj"
      },
      "source": [
        "O verão é a estação do ano que possui o maior número de alugueis acumulados"
      ]
    },
    {
      "cell_type": "markdown",
      "metadata": {
        "id": "NZglHMS8Ny9o"
      },
      "source": [
        "* Qual mês, em média, é melhor?"
      ]
    },
    {
      "cell_type": "code",
      "metadata": {
        "colab": {
          "base_uri": "https://localhost:8080/",
          "height": 452
        },
        "id": "dAOQ08ZwaEAX",
        "outputId": "71d978aa-99e0-450a-9b9b-76bca7347276"
      },
      "source": [
        "group3.sort_values(by='Rented Bike Count')"
      ],
      "execution_count": null,
      "outputs": [
        {
          "output_type": "execute_result",
          "data": {
            "text/html": [
              "<div>\n",
              "<style scoped>\n",
              "    .dataframe tbody tr th:only-of-type {\n",
              "        vertical-align: middle;\n",
              "    }\n",
              "\n",
              "    .dataframe tbody tr th {\n",
              "        vertical-align: top;\n",
              "    }\n",
              "\n",
              "    .dataframe thead th {\n",
              "        text-align: right;\n",
              "    }\n",
              "</style>\n",
              "<table border=\"1\" class=\"dataframe\">\n",
              "  <thead>\n",
              "    <tr style=\"text-align: right;\">\n",
              "      <th></th>\n",
              "      <th>Rented Bike Count</th>\n",
              "    </tr>\n",
              "    <tr>\n",
              "      <th>Month</th>\n",
              "      <th></th>\n",
              "    </tr>\n",
              "  </thead>\n",
              "  <tbody>\n",
              "    <tr>\n",
              "      <th>1</th>\n",
              "      <td>386.08</td>\n",
              "    </tr>\n",
              "    <tr>\n",
              "      <th>2</th>\n",
              "      <td>393.02</td>\n",
              "    </tr>\n",
              "    <tr>\n",
              "      <th>12</th>\n",
              "      <td>419.05</td>\n",
              "    </tr>\n",
              "    <tr>\n",
              "      <th>3</th>\n",
              "      <td>611.61</td>\n",
              "    </tr>\n",
              "    <tr>\n",
              "      <th>11</th>\n",
              "      <td>685.29</td>\n",
              "    </tr>\n",
              "    <tr>\n",
              "      <th>9</th>\n",
              "      <td>693.51</td>\n",
              "    </tr>\n",
              "    <tr>\n",
              "      <th>4</th>\n",
              "      <td>772.53</td>\n",
              "    </tr>\n",
              "    <tr>\n",
              "      <th>8</th>\n",
              "      <td>825.52</td>\n",
              "    </tr>\n",
              "    <tr>\n",
              "      <th>10</th>\n",
              "      <td>842.73</td>\n",
              "    </tr>\n",
              "    <tr>\n",
              "      <th>5</th>\n",
              "      <td>895.09</td>\n",
              "    </tr>\n",
              "    <tr>\n",
              "      <th>7</th>\n",
              "      <td>929.22</td>\n",
              "    </tr>\n",
              "    <tr>\n",
              "      <th>6</th>\n",
              "      <td>981.57</td>\n",
              "    </tr>\n",
              "  </tbody>\n",
              "</table>\n",
              "</div>"
            ],
            "text/plain": [
              "       Rented Bike Count\n",
              "Month                   \n",
              "1                 386.08\n",
              "2                 393.02\n",
              "12                419.05\n",
              "3                 611.61\n",
              "11                685.29\n",
              "9                 693.51\n",
              "4                 772.53\n",
              "8                 825.52\n",
              "10                842.73\n",
              "5                 895.09\n",
              "7                 929.22\n",
              "6                 981.57"
            ]
          },
          "metadata": {
            "tags": []
          },
          "execution_count": 60
        }
      ]
    },
    {
      "cell_type": "markdown",
      "metadata": {
        "id": "JjzIKbG9bnQQ"
      },
      "source": [
        "De acordo com a tendência de aluguéis, o mês de junho (6) possui a maior quantidade de aluguéis acumulados"
      ]
    },
    {
      "cell_type": "markdown",
      "metadata": {
        "id": "MF8hcXtdPGd1"
      },
      "source": [
        "### **Exercício 3**\n",
        "Vamos criar algumas visualizações gráficas com o Pandas"
      ]
    },
    {
      "cell_type": "code",
      "metadata": {
        "colab": {
          "base_uri": "https://localhost:8080/",
          "height": 404
        },
        "id": "SQF2EA0BNbug",
        "outputId": "ea6959f4-75d6-4c63-b8ff-269a387dd169"
      },
      "source": [
        "# Faça um gráfico (plot) em linha do agrupamento de Bikes alugadas por mês usando a média (mean) como função de agregação\n",
        "df.groupby('Month')['Rented Bike Count'].mean().plot(title='Média de Aluguéis de Bikes por Mês',\n",
        "                                                  xlabel='Mês', \n",
        "                                                  ylabel='Média Bikes Alugadas',\n",
        "                                                  figsize=(14,6));"
      ],
      "execution_count": null,
      "outputs": [
        {
          "output_type": "display_data",
          "data": {
            "image/png": "[encoded data removed]",
            "text/plain": [
              "<Figure size 1008x432 with 1 Axes>"
            ]
          },
          "metadata": {
            "tags": [],
            "needs_background": "light"
          }
        }
      ]
    },
    {
      "cell_type": "code",
      "metadata": {
        "colab": {
          "base_uri": "https://localhost:8080/",
          "height": 436
        },
        "id": "f8wGl6BqPn9f",
        "outputId": "f7532aa3-ce6b-4be5-b658-572984b33d9a"
      },
      "source": [
        "# Faça um gráfico (plot) em barras do agrupamento de Bikes alugadas por Season usando a Soma como função de agregação\n",
        "\n",
        "# Criando uma variável com o agrupamento e organizando os dados do maior para o menor (Caso queira ver o resultado do agrupamento, execute agg_by_season em uma célula separada)\n",
        "agg_by_season = df.groupby('Seasons')['Rented Bike Count'].sum().sort_values(ascending=False)\n",
        "\n",
        "# Criar o gráfico de barras\n",
        "agg_by_season.plot.bar(title='Total de Aluguéis de Bikes por Estação',\n",
        "                                                  xlabel='Estação', \n",
        "                                                  ylabel='Bikes Alugadas',\n",
        "                                                  figsize=(14,6),\n",
        "                                                  color='tomato');"
      ],
      "execution_count": null,
      "outputs": [
        {
          "output_type": "display_data",
          "data": {
            "image/png": "[encoded data removed]",
            "text/plain": [
              "<Figure size 1008x432 with 1 Axes>"
            ]
          },
          "metadata": {
            "tags": [],
            "needs_background": "light"
          }
        }
      ]
    },
    {
      "cell_type": "markdown",
      "metadata": {
        "id": "E9U_L8p7TU0S"
      },
      "source": [
        "### **Exercício 4**\n",
        "Em nosso último exercício, vou propor um desafio."
      ]
    },
    {
      "cell_type": "markdown",
      "metadata": {
        "id": "YtG3tzHsTg2D"
      },
      "source": [
        "A **correlação** é uma medida estatística que consegue medir qual é a força da relação entre duas variáveis numéricas. Deste modo, é possível medir quais são as variáveis do nosso dataset que mais influenciam o aluguel de Bikes.\n",
        "\n",
        "[A *correlação* é um número que varia entre 1 e -1](https://pt.wikipedia.org/wiki/Correla%C3%A7%C3%A3o). Sempre que este número se aproxima dos extremos 1 ou -1, dizemos que a relação é mais forte entre as variáveis, sendo 1 uma correlação positiva onde a variável A aumenta, B também aumenta e -1 é uma correlação negativa, quando A aumenta e B diminui.\n",
        "\n",
        "As correlações são mais fracas quanto mais o número se aproxima de zero."
      ]
    },
    {
      "cell_type": "markdown",
      "metadata": {
        "id": "VBX2lPr6UrQ1"
      },
      "source": [
        "Tendo a documentação do método [df.corr( )](https://pandas.pydata.org/pandas-docs/stable/reference/api/pandas.DataFrame.corr.html), calcule a correlação entre as variáveis e determine quais podem afetar as vendas do nosso cliente."
      ]
    },
    {
      "cell_type": "code",
      "metadata": {
        "colab": {
          "base_uri": "https://localhost:8080/"
        },
        "id": "uCISgxtPTfYF",
        "outputId": "6d25e51a-b857-40a2-9b46-18fb5f60a737"
      },
      "source": [
        "correlacao = df.corr(method='pearson')\n",
        "correlacao['Rented Bike Count']"
      ],
      "execution_count": null,
      "outputs": [
        {
          "output_type": "execute_result",
          "data": {
            "text/plain": [
              "Rented Bike Count            1.000000\n",
              "Hour                         0.410257\n",
              "Temperature(°C)              0.538558\n",
              "Humidity(%)                 -0.199780\n",
              "Wind speed (m/s)             0.121108\n",
              "Visibility (10m)             0.199280\n",
              "Dew point temperature(°C)    0.379788\n",
              "Solar Radiation (MJ/m2)      0.261837\n",
              "Rainfall(mm)                -0.123074\n",
              "Snowfall (cm)               -0.141804\n",
              "Year                         0.215162\n",
              "Month                        0.070861\n",
              "Name: Rented Bike Count, dtype: float64"
            ]
          },
          "metadata": {
            "tags": []
          },
          "execution_count": 67
        }
      ]
    },
    {
      "cell_type": "code",
      "metadata": {
        "colab": {
          "base_uri": "https://localhost:8080/",
          "height": 412
        },
        "id": "i9DRRaXnRuH8",
        "outputId": "459c67f9-fee5-46cb-e753-8ac12cab01a2"
      },
      "source": [
        "# Para visualizar o mapa de calor, basta executar o código abaixo\n",
        "import seaborn as sns\n",
        "sns.heatmap(correlacao)"
      ],
      "execution_count": null,
      "outputs": [
        {
          "output_type": "execute_result",
          "data": {
            "text/plain": [
              "<matplotlib.axes._subplots.AxesSubplot at 0x7f437eb30210>"
            ]
          },
          "metadata": {
            "tags": []
          },
          "execution_count": 68
        },
        {
          "output_type": "display_data",
          "data": {
            "image/png": "[encoded data removed]",
            "text/plain": [
              "<Figure size 432x288 with 2 Axes>"
            ]
          },
          "metadata": {
            "tags": [],
            "needs_background": "light"
          }
        }
      ]
    },
    {
      "cell_type": "markdown",
      "metadata": {
        "id": "SbnCmVXXWoQ2"
      },
      "source": [
        "## **Qual seria a estratégia que você apresentaria ao cliente?**\n",
        "* Em quais meses ele deve investir mais ou menos?\n",
        "* Quais os melhores meses para criar promoções?\n",
        "* Que variáveis podem afetar mais as vendas do cliente?\n",
        "\n",
        "Escreva a sua resposta em um parágrafo explicando as suas ações embasadas nos dados coletados das respostas ou de suas próprias análises."
      ]
    },
    {
      "cell_type": "markdown",
      "metadata": {
        "id": "NSR2xTizYXMu"
      },
      "source": [
        "**Sua resposta aqui**\n",
        "\n",
        "De acordo com os dados apresentados no dataset, podemos perceber que há uma correlação moderada entre temperatura e o número de aluguéis de bicicletas. Essa correlação fica mais intensa nos meses de junho, julho e agosto, onde a umidade do ar e o ponto de orvalho também tem uma tendência de crescimento. O ponto de orvalho indica um conforto térmico nesses três meses, o que também pode indicar um maior [conforto térmico](https://pt.wikipedia.org/wiki/Ponto_de_orvalho#Relação_com_a_sensação_de_conforto_e_desconforto) durante esses meses. \n",
        "\n",
        "É correto então, indicar que os melhores meses para investimento são os meses de junho, julho e agosto, onde a demanda por biciletas tende a aumentar. \n",
        "\n",
        "De forma semelhante, podemos afirmar que os meses que envolvem o outono e inverno são os meses com menor número de aluguéis, uma vez que a temperatura ambiente fica muito baixa pra níveis de conforto humano favoráveis. Então, os meses de setembro, outubro, novembro, dezembro, janeiro e fevereiro são os meses mais indicados para realização de campanhas promocionais, no intuito de incentivar os clientes a alugarem mais bicicletas."
      ]
    }
  ]
}